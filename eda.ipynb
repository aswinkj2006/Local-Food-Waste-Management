{
 "cells": [
  {
   "cell_type": "markdown",
   "id": "34b64668",
   "metadata": {},
   "source": [
    "# EDA — Local Food Wastage Management System\n",
    "This notebook mirrors the quick EDA in the Streamlit app and can be used for deeper analysis.\n",
    "It expects the CSVs to be present in the same directory."
   ]
  },
  {
   "cell_type": "code",
   "execution_count": null,
   "id": "92ea0f5a",
   "metadata": {},
   "outputs": [],
   "source": [
    "\n",
    "import pandas as pd\n",
    "\n",
    "providers = pd.read_csv('providers_data.csv')\n",
    "receivers = pd.read_csv('receivers_data.csv')\n",
    "food = pd.read_csv('food_listings_data.csv')\n",
    "claims = pd.read_csv('claims_data.csv')\n",
    "\n",
    "providers.head(), receivers.head(), food.head(), claims.head()\n"
   ]
  },
  {
   "cell_type": "code",
   "execution_count": null,
   "id": "f85a9936",
   "metadata": {},
   "outputs": [],
   "source": [
    "\n",
    "# Basic cleanup\n",
    "for df in [providers, receivers, food, claims]:\n",
    "    for col in df.select_dtypes(include='object').columns:\n",
    "        df[col] = df[col].astype(str).str.strip()\n",
    "\n",
    "if 'city' in providers.columns:\n",
    "    providers['city'] = providers['city'].str.title()\n",
    "if 'city' in receivers.columns:\n",
    "    receivers['city'] = receivers['city'].str.title()\n",
    "if 'location' in food.columns:\n",
    "    food['location'] = food['location'].str.title()\n",
    "\n",
    "providers.info()\n"
   ]
  },
  {
   "cell_type": "code",
   "execution_count": null,
   "id": "12e24a14",
   "metadata": {},
   "outputs": [],
   "source": [
    "\n",
    "# Quick KPIs\n",
    "kpis = {\n",
    "    \"providers\": len(providers),\n",
    "    \"receivers\": len(receivers),\n",
    "    \"food_listings\": len(food),\n",
    "    \"claims\": len(claims),\n",
    "    \"total_quantity_listed\": int(food['quantity'].fillna(0).sum())\n",
    "}\n",
    "kpis\n"
   ]
  },
  {
   "cell_type": "code",
   "execution_count": null,
   "id": "c8c0b345",
   "metadata": {},
   "outputs": [],
   "source": [
    "\n",
    "# Providers & Receivers by City\n",
    "providers_by_city = providers.groupby('city').size().sort_values(ascending=False)\n",
    "receivers_by_city = receivers.groupby('city').size().sort_values(ascending=False)\n",
    "providers_by_city.head(10), receivers_by_city.head(10)\n"
   ]
  },
  {
   "cell_type": "code",
   "execution_count": null,
   "id": "03183733",
   "metadata": {},
   "outputs": [],
   "source": [
    "\n",
    "# Claims by status\n",
    "claims_by_status = claims['status'].str.lower().value_counts(dropna=False).rename_axis('status').reset_index(name='count')\n",
    "claims_by_status\n"
   ]
  }
 ],
 "metadata": {},
 "nbformat": 4,
 "nbformat_minor": 5
}