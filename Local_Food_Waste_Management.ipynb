{
  "cells": [
    {
      "cell_type": "markdown",
      "metadata": {
        "id": "vncDsAP0Gaoa"
      },
      "source": [
        "# **Project Name - Local Food Waste Management**\n",
        "\n"
      ]
    },
    {
      "cell_type": "markdown",
      "metadata": {},
      "source": [
        "### Streamlit Deployment\n",
        "\n",
        " Link: https://local-food-waste-management.streamlit.app/"
      ]
    },
    {
      "cell_type": "markdown",
      "metadata": {
        "id": "beRrZCGUAJYm"
      },
      "source": [
        "##### **Project Type**    - EDA\n",
        "##### **Contribution**    - Individual\n",
        "##### **Team Member 1** - Aswin K J"
      ]
    },
    {
      "cell_type": "markdown",
      "metadata": {
        "id": "FJNUwmbgGyua"
      },
      "source": [
        "# **Project Summary**"
      ]
    },
    {
      "cell_type": "markdown",
      "metadata": {
        "id": "F6v_1wHtG2nS"
      },
      "source": [
        "Local Food Waste Management (LFWM) is a data-driven mini-project that connects *food providers* (e.g., restaurants, canteens, homes) with *receivers* (e.g., NGOs, shelters) to reduce avoidable food waste. The repository combines\n",
        "\n",
        "(a) A Simple Streamlit App\n",
        "\n",
        "(b) SQL Queries and Data Exploration using Pandas.\n",
        "\n",
        "The core data entities are providers, receivers, food listings, and claims. Providers post surplus food listings; receivers browse and place claims; accepted claims convert listings into meals delivered to people who need them. The EDA notebook here inspects data quality, uncovers patterns, and proposes SQL queries that the app can use for reporting and validation."
      ]
    },
    {
      "cell_type": "markdown",
      "metadata": {
        "id": "w6K7xa23Elo4"
      },
      "source": [
        "# **GitHub Link**"
      ]
    },
    {
      "cell_type": "markdown",
      "metadata": {
        "id": "h1o69JH3Eqqn"
      },
      "source": [
        "https://github.com/aswinkj2006/Local-Food-Waste-Management"
      ]
    },
    {
      "cell_type": "markdown",
      "metadata": {
        "id": "yQaldy8SH6Dl"
      },
      "source": [
        "# **Problem Statement**\n"
      ]
    },
    {
      "cell_type": "markdown",
      "metadata": {
        "id": "DpeJGUA3kjGy"
      },
      "source": [
        "Food wastage is a significant issue, with many households and restaurants discarding surplus food while numerous people struggle with food insecurity. This project aims to develop a Local Food Wastage Management System, where:\n",
        "* Restaurants and individuals can list surplus food.\n",
        "* NGOs or individuals in need can claim the food.\n",
        "* SQL stores available food details and locations.\n",
        "* A Streamlit app enables interaction, filtering, CRUD operation and visualization.\n"
      ]
    },
    {
      "cell_type": "markdown",
      "metadata": {
        "id": "mDgbUHAGgjLW"
      },
      "source": [
        "# **General Guidelines** : -  "
      ]
    },
    {
      "cell_type": "markdown",
      "metadata": {
        "id": "ZrxVaUj-hHfC"
      },
      "source": [
        "1.   Well-structured, formatted, and commented code is required.\n",
        "2.   Exception Handling, Production Grade Code & Deployment Ready Code will be a plus. Those students will be awarded some additional credits.\n",
        "     \n",
        "     The additional credits will have advantages over other students during Star Student selection.\n",
        "       \n",
        "             [ Note: - Deployment Ready Code is defined as, the whole .ipynb notebook should be executable in one go\n",
        "                       without a single error logged. ]\n",
        "\n",
        "3.   Each and every logic should have proper comments.\n",
        "4. You may add as many number of charts you want. Make Sure for each and every chart the following format should be answered.\n",
        "        \n",
        "\n",
        "```\n",
        "# Chart visualization code\n",
        "```\n",
        "            \n",
        "\n",
        "*   Why did you pick the specific chart?\n",
        "*   What is/are the insight(s) found from the chart?\n",
        "* Will the gained insights help creating a positive business impact?\n",
        "Are there any insights that lead to negative growth? Justify with specific reason.\n",
        "\n",
        "5. You have to create at least 15 logical & meaningful charts having important insights.\n",
        "\n",
        "\n",
        "[ Hints : - Do the Vizualization in  a structured way while following \"UBM\" Rule.\n",
        "\n",
        "U - Univariate Analysis,\n",
        "\n",
        "B - Bivariate Analysis (Numerical - Categorical, Numerical - Numerical, Categorical - Categorical)\n",
        "\n",
        "M - Multivariate Analysis\n",
        " ]\n",
        "\n",
        "\n",
        "\n",
        "\n",
        "\n",
        "6. You may add more ml algorithms for model creation. Make sure for each and every algorithm, the following format should be answered.\n",
        "\n",
        "\n",
        "*   Explain the ML Model used and it's performance using Evaluation metric Score Chart.\n",
        "\n",
        "\n",
        "*   Cross- Validation & Hyperparameter Tuning\n",
        "\n",
        "*   Have you seen any improvement? Note down the improvement with updates Evaluation metric Score Chart.\n",
        "\n",
        "*   Explain each evaluation metric's indication towards business and the business impact pf the ML model used.\n",
        "\n",
        "\n",
        "\n",
        "\n",
        "\n",
        "\n",
        "\n",
        "\n",
        "\n",
        "\n",
        "\n",
        "\n",
        "\n",
        "\n",
        "\n",
        "\n",
        "\n",
        "\n"
      ]
    },
    {
      "cell_type": "markdown",
      "metadata": {
        "id": "O_i_v8NEhb9l"
      },
      "source": [
        "# ***Let's Begin !***"
      ]
    },
    {
      "cell_type": "markdown",
      "metadata": {
        "id": "HhfV-JJviCcP"
      },
      "source": [
        "## ***1. Know Your Data***"
      ]
    },
    {
      "cell_type": "markdown",
      "metadata": {
        "id": "Y3lxredqlCYt"
      },
      "source": [
        "### Import Libraries"
      ]
    },
    {
      "cell_type": "code",
      "execution_count": 48,
      "metadata": {
        "id": "M8Vqi-pPk-HR"
      },
      "outputs": [],
      "source": [
        "# Import Libraries\n",
        "import pandas as pd\n",
        "import sqlite3\n",
        "from sklearn.model_selection import train_test_split\n",
        "from sklearn.preprocessing import OneHotEncoder\n",
        "from sklearn.compose import ColumnTransformer\n",
        "from sklearn.pipeline import Pipeline\n",
        "from sklearn.linear_model import LogisticRegression"
      ]
    },
    {
      "cell_type": "markdown",
      "metadata": {
        "id": "3RnN4peoiCZX"
      },
      "source": [
        "### Dataset Loading"
      ]
    },
    {
      "cell_type": "code",
      "execution_count": null,
      "metadata": {
        "id": "4CkvbW_SlZ_R"
      },
      "outputs": [],
      "source": [
        "# Load Dataset\n",
        "\n",
        "providers = pd.read_csv('providers_data.csv')\n",
        "receivers = pd.read_csv('receivers_data.csv')\n",
        "food = pd.read_csv('food_listings_data.csv')\n",
        "claims = pd.read_csv('claims_data.csv')\n",
        "\n"
      ]
    },
    {
      "cell_type": "markdown",
      "metadata": {
        "id": "x71ZqKXriCWQ"
      },
      "source": [
        "### Dataset First View"
      ]
    },
    {
      "cell_type": "code",
      "execution_count": 53,
      "metadata": {
        "colab": {
          "base_uri": "https://localhost:8080/",
          "height": 206
        },
        "id": "LWNFOSvLl09H",
        "outputId": "0c78d843-e0e5-4ae9-ffc4-4e2f464f3fa7"
      },
      "outputs": [
        {
          "data": {
            "application/vnd.google.colaboratory.intrinsic+json": {
              "summary": "{\n  \"name\": \"claims\",\n  \"rows\": 1000,\n  \"fields\": [\n    {\n      \"column\": \"claim_id\",\n      \"properties\": {\n        \"dtype\": \"number\",\n        \"std\": 288,\n        \"min\": 1,\n        \"max\": 1000,\n        \"num_unique_values\": 1000,\n        \"samples\": [\n          522,\n          738,\n          741\n        ],\n        \"semantic_type\": \"\",\n        \"description\": \"\"\n      }\n    },\n    {\n      \"column\": \"food_id\",\n      \"properties\": {\n        \"dtype\": \"number\",\n        \"std\": 292,\n        \"min\": 1,\n        \"max\": 999,\n        \"num_unique_values\": 647,\n        \"samples\": [\n          285,\n          467,\n          408\n        ],\n        \"semantic_type\": \"\",\n        \"description\": \"\"\n      }\n    },\n    {\n      \"column\": \"receiver_id\",\n      \"properties\": {\n        \"dtype\": \"number\",\n        \"std\": 284,\n        \"min\": 1,\n        \"max\": 1000,\n        \"num_unique_values\": 624,\n        \"samples\": [\n          341,\n          805,\n          154\n        ],\n        \"semantic_type\": \"\",\n        \"description\": \"\"\n      }\n    },\n    {\n      \"column\": \"status\",\n      \"properties\": {\n        \"dtype\": \"category\",\n        \"num_unique_values\": 3,\n        \"samples\": [\n          \"Pending\",\n          \"Cancelled\",\n          \"Completed\"\n        ],\n        \"semantic_type\": \"\",\n        \"description\": \"\"\n      }\n    },\n    {\n      \"column\": \"timestamp\",\n      \"properties\": {\n        \"dtype\": \"object\",\n        \"num_unique_values\": 976,\n        \"samples\": [\n          \"3/8/2025 21:48\",\n          \"3/13/2025 8:32\",\n          \"3/7/2025 21:27\"\n        ],\n        \"semantic_type\": \"\",\n        \"description\": \"\"\n      }\n    }\n  ]\n}",
              "type": "dataframe",
              "variable_name": "claims"
            },
            "text/html": [
              "\n",
              "  <div id=\"df-2f72ed34-573a-402d-acfd-b0d1506bb400\" class=\"colab-df-container\">\n",
              "    <div>\n",
              "<style scoped>\n",
              "    .dataframe tbody tr th:only-of-type {\n",
              "        vertical-align: middle;\n",
              "    }\n",
              "\n",
              "    .dataframe tbody tr th {\n",
              "        vertical-align: top;\n",
              "    }\n",
              "\n",
              "    .dataframe thead th {\n",
              "        text-align: right;\n",
              "    }\n",
              "</style>\n",
              "<table border=\"1\" class=\"dataframe\">\n",
              "  <thead>\n",
              "    <tr style=\"text-align: right;\">\n",
              "      <th></th>\n",
              "      <th>claim_id</th>\n",
              "      <th>food_id</th>\n",
              "      <th>receiver_id</th>\n",
              "      <th>status</th>\n",
              "      <th>timestamp</th>\n",
              "    </tr>\n",
              "  </thead>\n",
              "  <tbody>\n",
              "    <tr>\n",
              "      <th>0</th>\n",
              "      <td>1</td>\n",
              "      <td>164</td>\n",
              "      <td>908</td>\n",
              "      <td>Pending</td>\n",
              "      <td>3/5/2025 5:26</td>\n",
              "    </tr>\n",
              "    <tr>\n",
              "      <th>1</th>\n",
              "      <td>2</td>\n",
              "      <td>353</td>\n",
              "      <td>391</td>\n",
              "      <td>Cancelled</td>\n",
              "      <td>3/11/2025 10:24</td>\n",
              "    </tr>\n",
              "    <tr>\n",
              "      <th>2</th>\n",
              "      <td>3</td>\n",
              "      <td>626</td>\n",
              "      <td>492</td>\n",
              "      <td>Completed</td>\n",
              "      <td>3/21/2025 0:59</td>\n",
              "    </tr>\n",
              "    <tr>\n",
              "      <th>3</th>\n",
              "      <td>4</td>\n",
              "      <td>61</td>\n",
              "      <td>933</td>\n",
              "      <td>Cancelled</td>\n",
              "      <td>3/4/2025 9:08</td>\n",
              "    </tr>\n",
              "    <tr>\n",
              "      <th>4</th>\n",
              "      <td>5</td>\n",
              "      <td>345</td>\n",
              "      <td>229</td>\n",
              "      <td>Pending</td>\n",
              "      <td>3/14/2025 15:17</td>\n",
              "    </tr>\n",
              "  </tbody>\n",
              "</table>\n",
              "</div>\n",
              "    <div class=\"colab-df-buttons\">\n",
              "\n",
              "  <div class=\"colab-df-container\">\n",
              "    <button class=\"colab-df-convert\" onclick=\"convertToInteractive('df-2f72ed34-573a-402d-acfd-b0d1506bb400')\"\n",
              "            title=\"Convert this dataframe to an interactive table.\"\n",
              "            style=\"display:none;\">\n",
              "\n",
              "  <svg xmlns=\"http://www.w3.org/2000/svg\" height=\"24px\" viewBox=\"0 -960 960 960\">\n",
              "    <path d=\"M120-120v-720h720v720H120Zm60-500h600v-160H180v160Zm220 220h160v-160H400v160Zm0 220h160v-160H400v160ZM180-400h160v-160H180v160Zm440 0h160v-160H620v160ZM180-180h160v-160H180v160Zm440 0h160v-160H620v160Z\"/>\n",
              "  </svg>\n",
              "    </button>\n",
              "\n",
              "  <style>\n",
              "    .colab-df-container {\n",
              "      display:flex;\n",
              "      gap: 12px;\n",
              "    }\n",
              "\n",
              "    .colab-df-convert {\n",
              "      background-color: #E8F0FE;\n",
              "      border: none;\n",
              "      border-radius: 50%;\n",
              "      cursor: pointer;\n",
              "      display: none;\n",
              "      fill: #1967D2;\n",
              "      height: 32px;\n",
              "      padding: 0 0 0 0;\n",
              "      width: 32px;\n",
              "    }\n",
              "\n",
              "    .colab-df-convert:hover {\n",
              "      background-color: #E2EBFA;\n",
              "      box-shadow: 0px 1px 2px rgba(60, 64, 67, 0.3), 0px 1px 3px 1px rgba(60, 64, 67, 0.15);\n",
              "      fill: #174EA6;\n",
              "    }\n",
              "\n",
              "    .colab-df-buttons div {\n",
              "      margin-bottom: 4px;\n",
              "    }\n",
              "\n",
              "    [theme=dark] .colab-df-convert {\n",
              "      background-color: #3B4455;\n",
              "      fill: #D2E3FC;\n",
              "    }\n",
              "\n",
              "    [theme=dark] .colab-df-convert:hover {\n",
              "      background-color: #434B5C;\n",
              "      box-shadow: 0px 1px 3px 1px rgba(0, 0, 0, 0.15);\n",
              "      filter: drop-shadow(0px 1px 2px rgba(0, 0, 0, 0.3));\n",
              "      fill: #FFFFFF;\n",
              "    }\n",
              "  </style>\n",
              "\n",
              "    <script>\n",
              "      const buttonEl =\n",
              "        document.querySelector('#df-2f72ed34-573a-402d-acfd-b0d1506bb400 button.colab-df-convert');\n",
              "      buttonEl.style.display =\n",
              "        google.colab.kernel.accessAllowed ? 'block' : 'none';\n",
              "\n",
              "      async function convertToInteractive(key) {\n",
              "        const element = document.querySelector('#df-2f72ed34-573a-402d-acfd-b0d1506bb400');\n",
              "        const dataTable =\n",
              "          await google.colab.kernel.invokeFunction('convertToInteractive',\n",
              "                                                    [key], {});\n",
              "        if (!dataTable) return;\n",
              "\n",
              "        const docLinkHtml = 'Like what you see? Visit the ' +\n",
              "          '<a target=\"_blank\" href=https://colab.research.google.com/notebooks/data_table.ipynb>data table notebook</a>'\n",
              "          + ' to learn more about interactive tables.';\n",
              "        element.innerHTML = '';\n",
              "        dataTable['output_type'] = 'display_data';\n",
              "        await google.colab.output.renderOutput(dataTable, element);\n",
              "        const docLink = document.createElement('div');\n",
              "        docLink.innerHTML = docLinkHtml;\n",
              "        element.appendChild(docLink);\n",
              "      }\n",
              "    </script>\n",
              "  </div>\n",
              "\n",
              "\n",
              "    <div id=\"df-f08eb555-fd34-4421-9bec-31fa823db08b\">\n",
              "      <button class=\"colab-df-quickchart\" onclick=\"quickchart('df-f08eb555-fd34-4421-9bec-31fa823db08b')\"\n",
              "                title=\"Suggest charts\"\n",
              "                style=\"display:none;\">\n",
              "\n",
              "<svg xmlns=\"http://www.w3.org/2000/svg\" height=\"24px\"viewBox=\"0 0 24 24\"\n",
              "     width=\"24px\">\n",
              "    <g>\n",
              "        <path d=\"M19 3H5c-1.1 0-2 .9-2 2v14c0 1.1.9 2 2 2h14c1.1 0 2-.9 2-2V5c0-1.1-.9-2-2-2zM9 17H7v-7h2v7zm4 0h-2V7h2v10zm4 0h-2v-4h2v4z\"/>\n",
              "    </g>\n",
              "</svg>\n",
              "      </button>\n",
              "\n",
              "<style>\n",
              "  .colab-df-quickchart {\n",
              "      --bg-color: #E8F0FE;\n",
              "      --fill-color: #1967D2;\n",
              "      --hover-bg-color: #E2EBFA;\n",
              "      --hover-fill-color: #174EA6;\n",
              "      --disabled-fill-color: #AAA;\n",
              "      --disabled-bg-color: #DDD;\n",
              "  }\n",
              "\n",
              "  [theme=dark] .colab-df-quickchart {\n",
              "      --bg-color: #3B4455;\n",
              "      --fill-color: #D2E3FC;\n",
              "      --hover-bg-color: #434B5C;\n",
              "      --hover-fill-color: #FFFFFF;\n",
              "      --disabled-bg-color: #3B4455;\n",
              "      --disabled-fill-color: #666;\n",
              "  }\n",
              "\n",
              "  .colab-df-quickchart {\n",
              "    background-color: var(--bg-color);\n",
              "    border: none;\n",
              "    border-radius: 50%;\n",
              "    cursor: pointer;\n",
              "    display: none;\n",
              "    fill: var(--fill-color);\n",
              "    height: 32px;\n",
              "    padding: 0;\n",
              "    width: 32px;\n",
              "  }\n",
              "\n",
              "  .colab-df-quickchart:hover {\n",
              "    background-color: var(--hover-bg-color);\n",
              "    box-shadow: 0 1px 2px rgba(60, 64, 67, 0.3), 0 1px 3px 1px rgba(60, 64, 67, 0.15);\n",
              "    fill: var(--button-hover-fill-color);\n",
              "  }\n",
              "\n",
              "  .colab-df-quickchart-complete:disabled,\n",
              "  .colab-df-quickchart-complete:disabled:hover {\n",
              "    background-color: var(--disabled-bg-color);\n",
              "    fill: var(--disabled-fill-color);\n",
              "    box-shadow: none;\n",
              "  }\n",
              "\n",
              "  .colab-df-spinner {\n",
              "    border: 2px solid var(--fill-color);\n",
              "    border-color: transparent;\n",
              "    border-bottom-color: var(--fill-color);\n",
              "    animation:\n",
              "      spin 1s steps(1) infinite;\n",
              "  }\n",
              "\n",
              "  @keyframes spin {\n",
              "    0% {\n",
              "      border-color: transparent;\n",
              "      border-bottom-color: var(--fill-color);\n",
              "      border-left-color: var(--fill-color);\n",
              "    }\n",
              "    20% {\n",
              "      border-color: transparent;\n",
              "      border-left-color: var(--fill-color);\n",
              "      border-top-color: var(--fill-color);\n",
              "    }\n",
              "    30% {\n",
              "      border-color: transparent;\n",
              "      border-left-color: var(--fill-color);\n",
              "      border-top-color: var(--fill-color);\n",
              "      border-right-color: var(--fill-color);\n",
              "    }\n",
              "    40% {\n",
              "      border-color: transparent;\n",
              "      border-right-color: var(--fill-color);\n",
              "      border-top-color: var(--fill-color);\n",
              "    }\n",
              "    60% {\n",
              "      border-color: transparent;\n",
              "      border-right-color: var(--fill-color);\n",
              "    }\n",
              "    80% {\n",
              "      border-color: transparent;\n",
              "      border-right-color: var(--fill-color);\n",
              "      border-bottom-color: var(--fill-color);\n",
              "    }\n",
              "    90% {\n",
              "      border-color: transparent;\n",
              "      border-bottom-color: var(--fill-color);\n",
              "    }\n",
              "  }\n",
              "</style>\n",
              "\n",
              "      <script>\n",
              "        async function quickchart(key) {\n",
              "          const quickchartButtonEl =\n",
              "            document.querySelector('#' + key + ' button');\n",
              "          quickchartButtonEl.disabled = true;  // To prevent multiple clicks.\n",
              "          quickchartButtonEl.classList.add('colab-df-spinner');\n",
              "          try {\n",
              "            const charts = await google.colab.kernel.invokeFunction(\n",
              "                'suggestCharts', [key], {});\n",
              "          } catch (error) {\n",
              "            console.error('Error during call to suggestCharts:', error);\n",
              "          }\n",
              "          quickchartButtonEl.classList.remove('colab-df-spinner');\n",
              "          quickchartButtonEl.classList.add('colab-df-quickchart-complete');\n",
              "        }\n",
              "        (() => {\n",
              "          let quickchartButtonEl =\n",
              "            document.querySelector('#df-f08eb555-fd34-4421-9bec-31fa823db08b button');\n",
              "          quickchartButtonEl.style.display =\n",
              "            google.colab.kernel.accessAllowed ? 'block' : 'none';\n",
              "        })();\n",
              "      </script>\n",
              "    </div>\n",
              "\n",
              "    </div>\n",
              "  </div>\n"
            ],
            "text/plain": [
              "   claim_id  food_id  receiver_id     status        timestamp\n",
              "0         1      164          908    Pending    3/5/2025 5:26\n",
              "1         2      353          391  Cancelled  3/11/2025 10:24\n",
              "2         3      626          492  Completed   3/21/2025 0:59\n",
              "3         4       61          933  Cancelled    3/4/2025 9:08\n",
              "4         5      345          229    Pending  3/14/2025 15:17"
            ]
          },
          "execution_count": 53,
          "metadata": {},
          "output_type": "execute_result"
        }
      ],
      "source": [
        "# Dataset First Look\n",
        "providers.head()\n",
        "receivers.head()\n",
        "food.head()\n",
        "claims.head()"
      ]
    },
    {
      "cell_type": "markdown",
      "metadata": {
        "id": "7hBIi_osiCS2"
      },
      "source": [
        "### Dataset Rows & Columns count"
      ]
    },
    {
      "cell_type": "code",
      "execution_count": 55,
      "metadata": {
        "colab": {
          "base_uri": "https://localhost:8080/"
        },
        "id": "Kllu7SJgmLij",
        "outputId": "7213d45b-8a74-4cc5-8308-5e580340ebf3"
      },
      "outputs": [
        {
          "data": {
            "text/plain": [
              "(1000, 5)"
            ]
          },
          "execution_count": 55,
          "metadata": {},
          "output_type": "execute_result"
        }
      ],
      "source": [
        "# Dataset Rows & Columns count\n",
        "providers.shape\n",
        "receivers.shape\n",
        "food.shape\n",
        "claims.shape"
      ]
    },
    {
      "cell_type": "markdown",
      "metadata": {
        "id": "JlHwYmJAmNHm"
      },
      "source": [
        "### Dataset Information"
      ]
    },
    {
      "cell_type": "code",
      "execution_count": null,
      "metadata": {
        "colab": {
          "base_uri": "https://localhost:8080/"
        },
        "id": "e9hRXRi6meOf",
        "outputId": "056c15b4-0cd3-424f-fce4-a17474ac256e"
      },
      "outputs": [
        {
          "name": "stdout",
          "output_type": "stream",
          "text": [
            "<class 'pandas.core.frame.DataFrame'>\n",
            "RangeIndex: 1000 entries, 0 to 999\n",
            "Data columns (total 6 columns):\n",
            " #   Column       Non-Null Count  Dtype \n",
            "---  ------       --------------  ----- \n",
            " 0   Provider_ID  1000 non-null   int64 \n",
            " 1   Name         1000 non-null   object\n",
            " 2   Type         1000 non-null   object\n",
            " 3   Address      1000 non-null   object\n",
            " 4   City         1000 non-null   object\n",
            " 5   Contact      1000 non-null   object\n",
            "dtypes: int64(1), object(5)\n",
            "memory usage: 47.0+ KB\n",
            "<class 'pandas.core.frame.DataFrame'>\n",
            "RangeIndex: 1000 entries, 0 to 999\n",
            "Data columns (total 5 columns):\n",
            " #   Column       Non-Null Count  Dtype \n",
            "---  ------       --------------  ----- \n",
            " 0   Receiver_ID  1000 non-null   int64 \n",
            " 1   Name         1000 non-null   object\n",
            " 2   Type         1000 non-null   object\n",
            " 3   City         1000 non-null   object\n",
            " 4   Contact      1000 non-null   object\n",
            "dtypes: int64(1), object(4)\n",
            "memory usage: 39.2+ KB\n",
            "<class 'pandas.core.frame.DataFrame'>\n",
            "RangeIndex: 1000 entries, 0 to 999\n",
            "Data columns (total 9 columns):\n",
            " #   Column         Non-Null Count  Dtype \n",
            "---  ------         --------------  ----- \n",
            " 0   Food_ID        1000 non-null   int64 \n",
            " 1   Food_Name      1000 non-null   object\n",
            " 2   Quantity       1000 non-null   int64 \n",
            " 3   Expiry_Date    1000 non-null   object\n",
            " 4   Provider_ID    1000 non-null   int64 \n",
            " 5   Provider_Type  1000 non-null   object\n",
            " 6   Location       1000 non-null   object\n",
            " 7   Food_Type      1000 non-null   object\n",
            " 8   Meal_Type      1000 non-null   object\n",
            "dtypes: int64(3), object(6)\n",
            "memory usage: 70.4+ KB\n",
            "<class 'pandas.core.frame.DataFrame'>\n",
            "RangeIndex: 1000 entries, 0 to 999\n",
            "Data columns (total 5 columns):\n",
            " #   Column       Non-Null Count  Dtype \n",
            "---  ------       --------------  ----- \n",
            " 0   Claim_ID     1000 non-null   int64 \n",
            " 1   Food_ID      1000 non-null   int64 \n",
            " 2   Receiver_ID  1000 non-null   int64 \n",
            " 3   Status       1000 non-null   object\n",
            " 4   Timestamp    1000 non-null   object\n",
            "dtypes: int64(3), object(2)\n",
            "memory usage: 39.2+ KB\n"
          ]
        }
      ],
      "source": [
        "# Dataset Info\n",
        "providers.info()\n",
        "receivers.info()\n",
        "food.info()\n",
        "claims.info()"
      ]
    },
    {
      "cell_type": "markdown",
      "metadata": {
        "id": "35m5QtbWiB9F"
      },
      "source": [
        "#### Duplicate Values"
      ]
    },
    {
      "cell_type": "code",
      "execution_count": null,
      "metadata": {
        "colab": {
          "base_uri": "https://localhost:8080/"
        },
        "id": "1sLdpKYkmox0",
        "outputId": "52228f47-ba46-4450-a7ae-4e8d1795b945"
      },
      "outputs": [
        {
          "data": {
            "text/plain": [
              "np.int64(0)"
            ]
          },
          "execution_count": 7,
          "metadata": {},
          "output_type": "execute_result"
        }
      ],
      "source": [
        "# Dataset Duplicate Value Count\n",
        "providers.duplicated().sum()\n",
        "receivers.duplicated().sum()\n",
        "food.duplicated().sum()\n",
        "claims.duplicated().sum()"
      ]
    },
    {
      "cell_type": "markdown",
      "metadata": {
        "id": "PoPl-ycgm1ru"
      },
      "source": [
        "#### Missing Values/Null Values"
      ]
    },
    {
      "cell_type": "code",
      "execution_count": null,
      "metadata": {
        "colab": {
          "base_uri": "https://localhost:8080/",
          "height": 240
        },
        "id": "GgHWkxvamxVg",
        "outputId": "054e87f2-a035-4035-9bc5-3c6db15fca4c"
      },
      "outputs": [
        {
          "data": {
            "text/html": [
              "<div>\n",
              "<style scoped>\n",
              "    .dataframe tbody tr th:only-of-type {\n",
              "        vertical-align: middle;\n",
              "    }\n",
              "\n",
              "    .dataframe tbody tr th {\n",
              "        vertical-align: top;\n",
              "    }\n",
              "\n",
              "    .dataframe thead th {\n",
              "        text-align: right;\n",
              "    }\n",
              "</style>\n",
              "<table border=\"1\" class=\"dataframe\">\n",
              "  <thead>\n",
              "    <tr style=\"text-align: right;\">\n",
              "      <th></th>\n",
              "      <th>0</th>\n",
              "    </tr>\n",
              "  </thead>\n",
              "  <tbody>\n",
              "    <tr>\n",
              "      <th>Claim_ID</th>\n",
              "      <td>0</td>\n",
              "    </tr>\n",
              "    <tr>\n",
              "      <th>Food_ID</th>\n",
              "      <td>0</td>\n",
              "    </tr>\n",
              "    <tr>\n",
              "      <th>Receiver_ID</th>\n",
              "      <td>0</td>\n",
              "    </tr>\n",
              "    <tr>\n",
              "      <th>Status</th>\n",
              "      <td>0</td>\n",
              "    </tr>\n",
              "    <tr>\n",
              "      <th>Timestamp</th>\n",
              "      <td>0</td>\n",
              "    </tr>\n",
              "  </tbody>\n",
              "</table>\n",
              "</div><br><label><b>dtype:</b> int64</label>"
            ],
            "text/plain": [
              "Claim_ID       0\n",
              "Food_ID        0\n",
              "Receiver_ID    0\n",
              "Status         0\n",
              "Timestamp      0\n",
              "dtype: int64"
            ]
          },
          "execution_count": 8,
          "metadata": {},
          "output_type": "execute_result"
        }
      ],
      "source": [
        "# Missing Values/Null Values Count\n",
        "providers.isnull().sum()\n",
        "receivers.isnull().sum()\n",
        "food.isnull().sum()\n",
        "claims.isnull().sum()"
      ]
    },
    {
      "cell_type": "markdown",
      "metadata": {
        "id": "H0kj-8xxnORC"
      },
      "source": [
        "### What did you know about your dataset?"
      ]
    },
    {
      "cell_type": "markdown",
      "metadata": {
        "id": "gfoNAAC-nUe_"
      },
      "source": [
        "All four datasets (providers, receivers, food, and claims) have 1000 entries each.\n",
        "\n",
        "There are no missing values in any of the columns across all datasets.\n",
        "\n",
        "\n",
        "The data types are generally appropriate for the information they contain (integers for IDs, objects for names, types, addresses, cities, contacts, statuses, and timestamps).\n",
        "\n",
        "\n",
        "The claims dataset includes\n",
        "\n",
        "Claim_ID,\n",
        "\n",
        "Food_ID,\n",
        "\n",
        "Receiver_ID,\n",
        "\n",
        "Status,\n",
        "\n",
        "Timestamp.\n",
        "\n",
        "\n",
        "The food dataset contains details about food listings, including\n",
        "\n",
        "Food_ID,\n",
        "\n",
        "Food_Name,\n",
        "\n",
        "Quantity,\n",
        "\n",
        "Expiry_Date,\n",
        "\n",
        "Provider_ID,\n",
        "\n",
        "Provider_Type,\n",
        "\n",
        "Location,\n",
        "\n",
        "Food_Type,\n",
        "\n",
        "Meal_Type.\n",
        "\n",
        "\n",
        "The providers dataset has information about food providers with\n",
        "\n",
        "Provider_ID,\n",
        "\n",
        "Name,\n",
        "\n",
        "Type,\n",
        "\n",
        "Address,\n",
        "\n",
        "City,\n",
        "\n",
        "Contact columns.\n",
        "\n",
        "\n",
        "The receivers dataset includes\n",
        "\n",
        "Receiver_ID,\n",
        "\n",
        "Name,\n",
        "\n",
        "Type,\n",
        "\n",
        "City,\n",
        "\n",
        "Contact\n",
        "\n",
        "for food receivers.\n",
        "\n",
        "\n",
        "There are no duplicate rows in any of the datasets.\n"
      ]
    },
    {
      "cell_type": "markdown",
      "metadata": {
        "id": "nA9Y7ga8ng1Z"
      },
      "source": [
        "## ***2. Understanding Your Variables***"
      ]
    },
    {
      "cell_type": "code",
      "execution_count": null,
      "metadata": {
        "colab": {
          "base_uri": "https://localhost:8080/"
        },
        "id": "j7xfkqrt5Ag5",
        "outputId": "8425a1c6-50c3-4cb7-e2ef-fec2bcaf34a8"
      },
      "outputs": [
        {
          "data": {
            "text/plain": [
              "Index(['Claim_ID', 'Food_ID', 'Receiver_ID', 'Status', 'Timestamp'], dtype='object')"
            ]
          },
          "execution_count": 10,
          "metadata": {},
          "output_type": "execute_result"
        }
      ],
      "source": [
        "# Dataset Columns\n",
        "providers.columns\n",
        "receivers.columns\n",
        "food.columns\n",
        "claims.columns"
      ]
    },
    {
      "cell_type": "code",
      "execution_count": null,
      "metadata": {
        "colab": {
          "base_uri": "https://localhost:8080/",
          "height": 300
        },
        "id": "DnOaZdaE5Q5t",
        "outputId": "f109fbc9-3923-4143-b007-716b03e71046"
      },
      "outputs": [
        {
          "data": {
            "application/vnd.google.colaboratory.intrinsic+json": {
              "summary": "{\n  \"name\": \"claims\",\n  \"rows\": 8,\n  \"fields\": [\n    {\n      \"column\": \"Claim_ID\",\n      \"properties\": {\n        \"dtype\": \"number\",\n        \"std\": 360.1000917722167,\n        \"min\": 1.0,\n        \"max\": 1000.0,\n        \"num_unique_values\": 6,\n        \"samples\": [\n          1000.0,\n          500.5,\n          750.25\n        ],\n        \"semantic_type\": \"\",\n        \"description\": \"\"\n      }\n    },\n    {\n      \"column\": \"Food_ID\",\n      \"properties\": {\n        \"dtype\": \"number\",\n        \"std\": 362.4840843137942,\n        \"min\": 1.0,\n        \"max\": 1000.0,\n        \"num_unique_values\": 8,\n        \"samples\": [\n          502.163,\n          504.5,\n          1000.0\n        ],\n        \"semantic_type\": \"\",\n        \"description\": \"\"\n      }\n    },\n    {\n      \"column\": \"Receiver_ID\",\n      \"properties\": {\n        \"dtype\": \"number\",\n        \"std\": 359.7359630399825,\n        \"min\": 1.0,\n        \"max\": 1000.0,\n        \"num_unique_values\": 7,\n        \"samples\": [\n          1000.0,\n          492.437,\n          480.5\n        ],\n        \"semantic_type\": \"\",\n        \"description\": \"\"\n      }\n    }\n  ]\n}",
              "type": "dataframe"
            },
            "text/html": [
              "\n",
              "  <div id=\"df-f377a898-9417-4671-a449-9db83c828e6e\" class=\"colab-df-container\">\n",
              "    <div>\n",
              "<style scoped>\n",
              "    .dataframe tbody tr th:only-of-type {\n",
              "        vertical-align: middle;\n",
              "    }\n",
              "\n",
              "    .dataframe tbody tr th {\n",
              "        vertical-align: top;\n",
              "    }\n",
              "\n",
              "    .dataframe thead th {\n",
              "        text-align: right;\n",
              "    }\n",
              "</style>\n",
              "<table border=\"1\" class=\"dataframe\">\n",
              "  <thead>\n",
              "    <tr style=\"text-align: right;\">\n",
              "      <th></th>\n",
              "      <th>Claim_ID</th>\n",
              "      <th>Food_ID</th>\n",
              "      <th>Receiver_ID</th>\n",
              "    </tr>\n",
              "  </thead>\n",
              "  <tbody>\n",
              "    <tr>\n",
              "      <th>count</th>\n",
              "      <td>1000.000000</td>\n",
              "      <td>1000.000000</td>\n",
              "      <td>1000.000000</td>\n",
              "    </tr>\n",
              "    <tr>\n",
              "      <th>mean</th>\n",
              "      <td>500.500000</td>\n",
              "      <td>502.163000</td>\n",
              "      <td>492.437000</td>\n",
              "    </tr>\n",
              "    <tr>\n",
              "      <th>std</th>\n",
              "      <td>288.819436</td>\n",
              "      <td>292.462255</td>\n",
              "      <td>284.487869</td>\n",
              "    </tr>\n",
              "    <tr>\n",
              "      <th>min</th>\n",
              "      <td>1.000000</td>\n",
              "      <td>1.000000</td>\n",
              "      <td>1.000000</td>\n",
              "    </tr>\n",
              "    <tr>\n",
              "      <th>25%</th>\n",
              "      <td>250.750000</td>\n",
              "      <td>233.750000</td>\n",
              "      <td>256.000000</td>\n",
              "    </tr>\n",
              "    <tr>\n",
              "      <th>50%</th>\n",
              "      <td>500.500000</td>\n",
              "      <td>504.500000</td>\n",
              "      <td>480.500000</td>\n",
              "    </tr>\n",
              "    <tr>\n",
              "      <th>75%</th>\n",
              "      <td>750.250000</td>\n",
              "      <td>762.000000</td>\n",
              "      <td>742.250000</td>\n",
              "    </tr>\n",
              "    <tr>\n",
              "      <th>max</th>\n",
              "      <td>1000.000000</td>\n",
              "      <td>999.000000</td>\n",
              "      <td>1000.000000</td>\n",
              "    </tr>\n",
              "  </tbody>\n",
              "</table>\n",
              "</div>\n",
              "    <div class=\"colab-df-buttons\">\n",
              "\n",
              "  <div class=\"colab-df-container\">\n",
              "    <button class=\"colab-df-convert\" onclick=\"convertToInteractive('df-f377a898-9417-4671-a449-9db83c828e6e')\"\n",
              "            title=\"Convert this dataframe to an interactive table.\"\n",
              "            style=\"display:none;\">\n",
              "\n",
              "  <svg xmlns=\"http://www.w3.org/2000/svg\" height=\"24px\" viewBox=\"0 -960 960 960\">\n",
              "    <path d=\"M120-120v-720h720v720H120Zm60-500h600v-160H180v160Zm220 220h160v-160H400v160Zm0 220h160v-160H400v160ZM180-400h160v-160H180v160Zm440 0h160v-160H620v160ZM180-180h160v-160H180v160Zm440 0h160v-160H620v160Z\"/>\n",
              "  </svg>\n",
              "    </button>\n",
              "\n",
              "  <style>\n",
              "    .colab-df-container {\n",
              "      display:flex;\n",
              "      gap: 12px;\n",
              "    }\n",
              "\n",
              "    .colab-df-convert {\n",
              "      background-color: #E8F0FE;\n",
              "      border: none;\n",
              "      border-radius: 50%;\n",
              "      cursor: pointer;\n",
              "      display: none;\n",
              "      fill: #1967D2;\n",
              "      height: 32px;\n",
              "      padding: 0 0 0 0;\n",
              "      width: 32px;\n",
              "    }\n",
              "\n",
              "    .colab-df-convert:hover {\n",
              "      background-color: #E2EBFA;\n",
              "      box-shadow: 0px 1px 2px rgba(60, 64, 67, 0.3), 0px 1px 3px 1px rgba(60, 64, 67, 0.15);\n",
              "      fill: #174EA6;\n",
              "    }\n",
              "\n",
              "    .colab-df-buttons div {\n",
              "      margin-bottom: 4px;\n",
              "    }\n",
              "\n",
              "    [theme=dark] .colab-df-convert {\n",
              "      background-color: #3B4455;\n",
              "      fill: #D2E3FC;\n",
              "    }\n",
              "\n",
              "    [theme=dark] .colab-df-convert:hover {\n",
              "      background-color: #434B5C;\n",
              "      box-shadow: 0px 1px 3px 1px rgba(0, 0, 0, 0.15);\n",
              "      filter: drop-shadow(0px 1px 2px rgba(0, 0, 0, 0.3));\n",
              "      fill: #FFFFFF;\n",
              "    }\n",
              "  </style>\n",
              "\n",
              "    <script>\n",
              "      const buttonEl =\n",
              "        document.querySelector('#df-f377a898-9417-4671-a449-9db83c828e6e button.colab-df-convert');\n",
              "      buttonEl.style.display =\n",
              "        google.colab.kernel.accessAllowed ? 'block' : 'none';\n",
              "\n",
              "      async function convertToInteractive(key) {\n",
              "        const element = document.querySelector('#df-f377a898-9417-4671-a449-9db83c828e6e');\n",
              "        const dataTable =\n",
              "          await google.colab.kernel.invokeFunction('convertToInteractive',\n",
              "                                                    [key], {});\n",
              "        if (!dataTable) return;\n",
              "\n",
              "        const docLinkHtml = 'Like what you see? Visit the ' +\n",
              "          '<a target=\"_blank\" href=https://colab.research.google.com/notebooks/data_table.ipynb>data table notebook</a>'\n",
              "          + ' to learn more about interactive tables.';\n",
              "        element.innerHTML = '';\n",
              "        dataTable['output_type'] = 'display_data';\n",
              "        await google.colab.output.renderOutput(dataTable, element);\n",
              "        const docLink = document.createElement('div');\n",
              "        docLink.innerHTML = docLinkHtml;\n",
              "        element.appendChild(docLink);\n",
              "      }\n",
              "    </script>\n",
              "  </div>\n",
              "\n",
              "\n",
              "    <div id=\"df-4011eed5-2ff8-4fce-93c0-772c1ea5c1f0\">\n",
              "      <button class=\"colab-df-quickchart\" onclick=\"quickchart('df-4011eed5-2ff8-4fce-93c0-772c1ea5c1f0')\"\n",
              "                title=\"Suggest charts\"\n",
              "                style=\"display:none;\">\n",
              "\n",
              "<svg xmlns=\"http://www.w3.org/2000/svg\" height=\"24px\"viewBox=\"0 0 24 24\"\n",
              "     width=\"24px\">\n",
              "    <g>\n",
              "        <path d=\"M19 3H5c-1.1 0-2 .9-2 2v14c0 1.1.9 2 2 2h14c1.1 0 2-.9 2-2V5c0-1.1-.9-2-2-2zM9 17H7v-7h2v7zm4 0h-2V7h2v10zm4 0h-2v-4h2v4z\"/>\n",
              "    </g>\n",
              "</svg>\n",
              "      </button>\n",
              "\n",
              "<style>\n",
              "  .colab-df-quickchart {\n",
              "      --bg-color: #E8F0FE;\n",
              "      --fill-color: #1967D2;\n",
              "      --hover-bg-color: #E2EBFA;\n",
              "      --hover-fill-color: #174EA6;\n",
              "      --disabled-fill-color: #AAA;\n",
              "      --disabled-bg-color: #DDD;\n",
              "  }\n",
              "\n",
              "  [theme=dark] .colab-df-quickchart {\n",
              "      --bg-color: #3B4455;\n",
              "      --fill-color: #D2E3FC;\n",
              "      --hover-bg-color: #434B5C;\n",
              "      --hover-fill-color: #FFFFFF;\n",
              "      --disabled-bg-color: #3B4455;\n",
              "      --disabled-fill-color: #666;\n",
              "  }\n",
              "\n",
              "  .colab-df-quickchart {\n",
              "    background-color: var(--bg-color);\n",
              "    border: none;\n",
              "    border-radius: 50%;\n",
              "    cursor: pointer;\n",
              "    display: none;\n",
              "    fill: var(--fill-color);\n",
              "    height: 32px;\n",
              "    padding: 0;\n",
              "    width: 32px;\n",
              "  }\n",
              "\n",
              "  .colab-df-quickchart:hover {\n",
              "    background-color: var(--hover-bg-color);\n",
              "    box-shadow: 0 1px 2px rgba(60, 64, 67, 0.3), 0 1px 3px 1px rgba(60, 64, 67, 0.15);\n",
              "    fill: var(--button-hover-fill-color);\n",
              "  }\n",
              "\n",
              "  .colab-df-quickchart-complete:disabled,\n",
              "  .colab-df-quickchart-complete:disabled:hover {\n",
              "    background-color: var(--disabled-bg-color);\n",
              "    fill: var(--disabled-fill-color);\n",
              "    box-shadow: none;\n",
              "  }\n",
              "\n",
              "  .colab-df-spinner {\n",
              "    border: 2px solid var(--fill-color);\n",
              "    border-color: transparent;\n",
              "    border-bottom-color: var(--fill-color);\n",
              "    animation:\n",
              "      spin 1s steps(1) infinite;\n",
              "  }\n",
              "\n",
              "  @keyframes spin {\n",
              "    0% {\n",
              "      border-color: transparent;\n",
              "      border-bottom-color: var(--fill-color);\n",
              "      border-left-color: var(--fill-color);\n",
              "    }\n",
              "    20% {\n",
              "      border-color: transparent;\n",
              "      border-left-color: var(--fill-color);\n",
              "      border-top-color: var(--fill-color);\n",
              "    }\n",
              "    30% {\n",
              "      border-color: transparent;\n",
              "      border-left-color: var(--fill-color);\n",
              "      border-top-color: var(--fill-color);\n",
              "      border-right-color: var(--fill-color);\n",
              "    }\n",
              "    40% {\n",
              "      border-color: transparent;\n",
              "      border-right-color: var(--fill-color);\n",
              "      border-top-color: var(--fill-color);\n",
              "    }\n",
              "    60% {\n",
              "      border-color: transparent;\n",
              "      border-right-color: var(--fill-color);\n",
              "    }\n",
              "    80% {\n",
              "      border-color: transparent;\n",
              "      border-right-color: var(--fill-color);\n",
              "      border-bottom-color: var(--fill-color);\n",
              "    }\n",
              "    90% {\n",
              "      border-color: transparent;\n",
              "      border-bottom-color: var(--fill-color);\n",
              "    }\n",
              "  }\n",
              "</style>\n",
              "\n",
              "      <script>\n",
              "        async function quickchart(key) {\n",
              "          const quickchartButtonEl =\n",
              "            document.querySelector('#' + key + ' button');\n",
              "          quickchartButtonEl.disabled = true;  // To prevent multiple clicks.\n",
              "          quickchartButtonEl.classList.add('colab-df-spinner');\n",
              "          try {\n",
              "            const charts = await google.colab.kernel.invokeFunction(\n",
              "                'suggestCharts', [key], {});\n",
              "          } catch (error) {\n",
              "            console.error('Error during call to suggestCharts:', error);\n",
              "          }\n",
              "          quickchartButtonEl.classList.remove('colab-df-spinner');\n",
              "          quickchartButtonEl.classList.add('colab-df-quickchart-complete');\n",
              "        }\n",
              "        (() => {\n",
              "          let quickchartButtonEl =\n",
              "            document.querySelector('#df-4011eed5-2ff8-4fce-93c0-772c1ea5c1f0 button');\n",
              "          quickchartButtonEl.style.display =\n",
              "            google.colab.kernel.accessAllowed ? 'block' : 'none';\n",
              "        })();\n",
              "      </script>\n",
              "    </div>\n",
              "\n",
              "    </div>\n",
              "  </div>\n"
            ],
            "text/plain": [
              "          Claim_ID      Food_ID  Receiver_ID\n",
              "count  1000.000000  1000.000000  1000.000000\n",
              "mean    500.500000   502.163000   492.437000\n",
              "std     288.819436   292.462255   284.487869\n",
              "min       1.000000     1.000000     1.000000\n",
              "25%     250.750000   233.750000   256.000000\n",
              "50%     500.500000   504.500000   480.500000\n",
              "75%     750.250000   762.000000   742.250000\n",
              "max    1000.000000   999.000000  1000.000000"
            ]
          },
          "execution_count": 11,
          "metadata": {},
          "output_type": "execute_result"
        }
      ],
      "source": [
        "# Dataset Describe\n",
        "providers.describe()\n",
        "receivers.describe()\n",
        "food.describe()\n",
        "claims.describe()"
      ]
    },
    {
      "cell_type": "markdown",
      "metadata": {
        "id": "PBTbrJXOngz2"
      },
      "source": [
        "### Variables Description"
      ]
    },
    {
      "cell_type": "markdown",
      "metadata": {
        "id": "aJV4KIxSnxay"
      },
      "source": [
        "**providers_data.csv:**\n",
        "\n",
        "- Provider_ID: A unique identifier for each food provider.\n",
        "- Name: The name of the food provider.\n",
        "- Type: The type of food provider (e.g., \"Supermarket\", \"Grocery Store\", \"Restaurant\", \"Catering Service\").\n",
        "- Address: The physical address of the food provider.\n",
        "- City: The city where the food provider is located.\n",
        "- Contact: Contact information for the food provider.\n",
        "\n",
        "\n",
        "**receivers_data.csv:**\n",
        "\n",
        "- Receiver_ID: A unique identifier for each food receiver.\n",
        "- Name: The name of the food receiver.\n",
        "- Type: The type of food receiver (e.g., \"Shelter\", \"Individual\", \"NGO\").\n",
        "- City: The city where the food receiver is located.\n",
        "- Contact: Contact information for the food receiver.\n",
        "\n",
        "**food_listings_data.csv:**\n",
        "\n",
        "- Food_ID: A unique identifier for each food listing.\n",
        "- Food_Name: The name of the food item listed.\n",
        "- Quantity: The quantity of the food item available.\n",
        "- Expiry_Date: The expiration date of the food item.\n",
        "- Provider_ID: The ID of the provider who listed the food (links to the providers dataset).\n",
        "- Provider_Type: The type of the provider who listed the food.\n",
        "- Location: The location where the food can be picked up.\n",
        "- Food_Type: The type of food (e.g., \"Vegetarian\", \"Non-Vegetarian\", \"Vegan\").\n",
        "- Meal_Type: The meal type the food is suitable for (e.g., \"Breakfast\", \"Lunch\", \"Dinner\").\n",
        "\n",
        "\n",
        "**claims_data.csv:**\n",
        "\n",
        "- Claim_ID: A unique identifier for each claim made on a food listing.\n",
        "- Food_ID: The ID of the food listing that was claimed (links to the food dataset).\n",
        "- Receiver_ID: The ID of the receiver who made the claim (links to the receivers dataset).\n",
        "- Status: The current status of the claim (e.g., \"Pending\", \"Cancelled\", \"Completed\").\n",
        "- Timestamp: The date and time when the claim was made.\n"
      ]
    },
    {
      "cell_type": "markdown",
      "metadata": {
        "id": "u3PMJOP6ngxN"
      },
      "source": [
        "### Check Unique Values for each variable."
      ]
    },
    {
      "cell_type": "code",
      "execution_count": 56,
      "metadata": {
        "colab": {
          "base_uri": "https://localhost:8080/",
          "height": 240
        },
        "id": "zms12Yq5n-jE",
        "outputId": "cc313624-7692-47ac-96c2-daadef8ede08"
      },
      "outputs": [
        {
          "data": {
            "text/html": [
              "<div>\n",
              "<style scoped>\n",
              "    .dataframe tbody tr th:only-of-type {\n",
              "        vertical-align: middle;\n",
              "    }\n",
              "\n",
              "    .dataframe tbody tr th {\n",
              "        vertical-align: top;\n",
              "    }\n",
              "\n",
              "    .dataframe thead th {\n",
              "        text-align: right;\n",
              "    }\n",
              "</style>\n",
              "<table border=\"1\" class=\"dataframe\">\n",
              "  <thead>\n",
              "    <tr style=\"text-align: right;\">\n",
              "      <th></th>\n",
              "      <th>0</th>\n",
              "    </tr>\n",
              "  </thead>\n",
              "  <tbody>\n",
              "    <tr>\n",
              "      <th>claim_id</th>\n",
              "      <td>1000</td>\n",
              "    </tr>\n",
              "    <tr>\n",
              "      <th>food_id</th>\n",
              "      <td>647</td>\n",
              "    </tr>\n",
              "    <tr>\n",
              "      <th>receiver_id</th>\n",
              "      <td>624</td>\n",
              "    </tr>\n",
              "    <tr>\n",
              "      <th>status</th>\n",
              "      <td>3</td>\n",
              "    </tr>\n",
              "    <tr>\n",
              "      <th>timestamp</th>\n",
              "      <td>976</td>\n",
              "    </tr>\n",
              "  </tbody>\n",
              "</table>\n",
              "</div><br><label><b>dtype:</b> int64</label>"
            ],
            "text/plain": [
              "claim_id       1000\n",
              "food_id         647\n",
              "receiver_id     624\n",
              "status            3\n",
              "timestamp       976\n",
              "dtype: int64"
            ]
          },
          "execution_count": 56,
          "metadata": {},
          "output_type": "execute_result"
        }
      ],
      "source": [
        "# Check Unique Values for each variable.\n",
        "providers.nunique()\n",
        "receivers.nunique()\n",
        "food.nunique()\n",
        "claims.nunique()"
      ]
    },
    {
      "cell_type": "markdown",
      "metadata": {
        "id": "dauF4eBmngu3"
      },
      "source": [
        "## 3. ***Data Wrangling***"
      ]
    },
    {
      "cell_type": "markdown",
      "metadata": {
        "id": "bKJF3rekwFvQ"
      },
      "source": [
        "### Data Wrangling Code"
      ]
    },
    {
      "cell_type": "code",
      "execution_count": null,
      "metadata": {
        "id": "wk-9a2fpoLcV"
      },
      "outputs": [],
      "source": [
        "# Write your code to make your dataset analysis ready.\n",
        "\n",
        "for df in [providers, receivers, food, claims]:\n",
        "    for col in df.select_dtypes(include='object').columns:\n",
        "        df[col] = df[col].astype(str).str.strip()\n",
        "\n",
        "if 'city' in providers.columns:\n",
        "    providers['city'] = providers['city'].str.title()\n",
        "if 'city' in receivers.columns:\n",
        "    receivers['city'] = receivers['city'].str.title()\n",
        "if 'location' in food.columns:\n",
        "    food['location'] = food['location'].str.title()\n"
      ]
    },
    {
      "cell_type": "markdown",
      "metadata": {
        "id": "MSa1f5Uengrz"
      },
      "source": [
        "### What all manipulations have you done and insights you found?"
      ]
    },
    {
      "cell_type": "markdown",
      "metadata": {
        "id": "LbyXE7I1olp8"
      },
      "source": [
        "In the data wrangling code cell, I've performed the following manipulations:\n",
        "\n",
        "- Stripped leading/trailing whitespace: For all object type columns in each DataFrame, I've removed any leading or trailing whitespace. This helps ensure consistency in text data and prevents issues with matching or filtering based on these columns.\n",
        "- Capitalized City and Location names: I've converted the 'City' columns in the providers and receivers dataframes, and the 'Location' column in the food dataframe to title case. This standardizes the naming convention for locations.\n",
        "- These manipulations are primarily for data cleaning and standardization, which are essential steps before conducting analysis or visualization. At this stage, these manipulations mainly provide insights into the quality of the data (e.g., presence of leading/trailing spaces or inconsistent capitalization) rather than business-specific insights. Further insights will be gained during the data visualization and analysis phases."
      ]
    },
    {
      "cell_type": "markdown",
      "metadata": {
        "id": "GF8Ens_Soomf"
      },
      "source": [
        "## ***4. Data Vizualization, Storytelling & Experimenting with charts : Understand the relationships between variables***"
      ]
    },
    {
      "cell_type": "markdown",
      "metadata": {
        "id": "584qrR8DO9vx"
      },
      "source": [
        "#### Chart - 1"
      ]
    },
    {
      "cell_type": "code",
      "execution_count": null,
      "metadata": {
        "colab": {
          "base_uri": "https://localhost:8080/",
          "height": 513
        },
        "id": "7v_ESjsspbW7",
        "outputId": "93a9bc9a-9546-457d-e860-3131c4217321"
      },
      "outputs": [
        {
          "data": {
            "image/png": "[encoded data removed]",
            "text/plain": [
              "<Figure size 1200x600 with 1 Axes>"
            ]
          },
          "metadata": {},
          "output_type": "display_data"
        }
      ],
      "source": [
        "import matplotlib.pyplot as plt\n",
        "import seaborn as sns\n",
        "\n",
        "# Chart - 1: Distribution of Food Types by Provider Type\n",
        "plt.figure(figsize=(12, 6))\n",
        "sns.countplot(data=food, x='Provider_Type', hue='Food_Type')\n",
        "plt.title('Distribution of Food Types by Provider Type')\n",
        "plt.xlabel('Provider Type')\n",
        "plt.ylabel('Count')\n",
        "plt.xticks(rotation=45, ha='right')\n",
        "plt.tight_layout()\n",
        "plt.show()"
      ]
    },
    {
      "cell_type": "markdown",
      "metadata": {
        "id": "f104b385"
      },
      "source": [
        "##### 1. Why did you pick the specific chart?\n",
        "A grouped bar chart is suitable for comparing the counts of categorical variables (Food Type) across different categories of another variable (Provider Type). It allows for easy visual comparison of the distribution of food types offered by each provider type."
      ]
    },
    {
      "cell_type": "markdown",
      "metadata": {
        "id": "6213ea43"
      },
      "source": [
        "##### 2. What is/are the insight(s) found from the chart?\n",
        "This chart shows which food types are most commonly offered by different types of providers. For example, 'Supermarkets' and 'Grocery Stores' might offer a wider variety of food types compared to 'Restaurants' or 'Catering Services'. It can also highlight if certain food types are exclusively offered by specific provider types."
      ]
    },
    {
      "cell_type": "markdown",
      "metadata": {
        "id": "e356f47a"
      },
      "source": [
        "##### 3. Will the gained insights help creating a positive business impact?\n",
        "Yes, this insight can help create a positive business impact. Understanding which provider types offer which food types can inform targeted marketing efforts to receivers. It can also help identify gaps in food offerings, potentially encouraging certain provider types to list more diverse food. Identifying providers with a wide variety of food types can streamline the search for receivers looking for specific items.\n",
        "\n",
        "If a particular food type has very low representation across all provider types, it might indicate a lack of supply or demand for that type of food in the system, potentially leading to negative growth for listings of that type if not addressed."
      ]
    },
    {
      "cell_type": "markdown",
      "metadata": {
        "id": "EM7whBJCYoAo"
      },
      "source": [
        "#### Chart - 2"
      ]
    },
    {
      "cell_type": "code",
      "execution_count": null,
      "metadata": {
        "colab": {
          "base_uri": "https://localhost:8080/",
          "height": 513
        },
        "id": "t6GMdE67YoAp",
        "outputId": "f733a6e6-feb2-482e-f18b-f9ab28e507b4"
      },
      "outputs": [
        {
          "data": {
            "image/png": "[encoded data removed]",
            "text/plain": [
              "<Figure size 1200x600 with 1 Axes>"
            ]
          },
          "metadata": {},
          "output_type": "display_data"
        }
      ],
      "source": [
        "# Chart - 2: Quantity of food listed by Provider Type\n",
        "plt.figure(figsize=(12, 6))\n",
        "sns.boxplot(data=food, x='Provider_Type', y='Quantity')\n",
        "plt.title('Quantity of Food Listed by Provider Type')\n",
        "plt.xlabel('Provider Type')\n",
        "plt.ylabel('Quantity')\n",
        "plt.xticks(rotation=45, ha='right')\n",
        "plt.tight_layout()\n",
        "plt.show()"
      ]
    },
    {
      "cell_type": "markdown",
      "metadata": {
        "id": "681290db"
      },
      "source": [
        "##### 1. Why did you pick the specific chart?\n",
        "A box plot is effective for visualizing the distribution of a numerical variable (Quantity) across different categories of a categorical variable (Provider Type). It shows the median, quartiles, and potential outliers in the quantity of food listed by each provider type."
      ]
    },
    {
      "cell_type": "markdown",
      "metadata": {
        "id": "351d0437"
      },
      "source": [
        "##### 2. What is/are the insight(s) found from the chart?\n",
        "This chart provides insights into the typical quantity of food listed by different types of providers. For instance, 'Supermarkets' or 'Catering Services' might generally list larger quantities of food compared to 'Restaurants' or 'Grocery Stores'. It also helps identify the variability in quantities within each provider type."
      ]
    },
    {
      "cell_type": "markdown",
      "metadata": {
        "id": "b9589be3"
      },
      "source": [
        "##### 3. Will the gained insights help creating a positive business impact?\n",
        "Yes, understanding the typical quantities provided by different types of providers can help in managing expectations for receivers and optimizing logistics for food distribution. It can also inform strategies for recruiting new providers by highlighting the potential impact they can have based on their type and typical food quantities.\n",
        "\n",
        "If a significant portion of food listings from certain provider types are very small quantities, it might not be efficient for receivers (especially larger organizations like shelters) to claim them due to logistical costs, potentially leading to those listings going unclaimed and contributing to food waste."
      ]
    },
    {
      "cell_type": "markdown",
      "metadata": {
        "id": "4Of9eVA-YrdM"
      },
      "source": [
        "#### Chart - 3"
      ]
    },
    {
      "cell_type": "code",
      "execution_count": null,
      "metadata": {
        "colab": {
          "base_uri": "https://localhost:8080/",
          "height": 513
        },
        "id": "irlUoxc8YrdO",
        "outputId": "f0fa4807-168e-4414-a4c8-ac3bcc9315cc"
      },
      "outputs": [
        {
          "data": {
            "image/png": "[encoded data removed]",
            "text/plain": [
              "<Figure size 1400x700 with 1 Axes>"
            ]
          },
          "metadata": {},
          "output_type": "display_data"
        }
      ],
      "source": [
        "# Chart - 3: Number of claims by Food Type\n",
        "# Need to merge claims and food dataframes first\n",
        "claims_food = pd.merge(claims, food, on='Food_ID')\n",
        "\n",
        "plt.figure(figsize=(14, 7))\n",
        "sns.countplot(data=claims_food, y='Food_Type', order=claims_food['Food_Type'].value_counts().index)\n",
        "plt.title('Number of Claims by Food Type')\n",
        "plt.xlabel('Number of Claims')\n",
        "plt.ylabel('Food Type')\n",
        "plt.tight_layout()\n",
        "plt.show()"
      ]
    },
    {
      "cell_type": "markdown",
      "metadata": {
        "id": "250a7458"
      },
      "source": [
        "##### 1. Why did you pick the specific chart?\n",
        "A horizontal bar chart is suitable for displaying the counts of claims for each food type. Using a horizontal bar chart makes the food type labels easier to read, especially if there are many categories. Ordering the bars by count helps to quickly identify the most claimed food types."
      ]
    },
    {
      "cell_type": "markdown",
      "metadata": {
        "id": "cf62edb4"
      },
      "source": [
        "##### 2. What is/are the insight(s) found from the chart?\n",
        "This chart shows which food types are most in demand among receivers, based on the number of claims. It highlights the popularity of certain food types within the system."
      ]
    },
    {
      "cell_type": "markdown",
      "metadata": {
        "id": "00a014f9"
      },
      "source": [
        "##### 3. Will the gained insights help creating a positive business impact?\n",
        "Yes, knowing which food types are most claimed can inform strategies for prioritizing the rescue and listing of those types of food. It can also help in targeting providers who typically have these food types to increase the supply of high-demand items, leading to more successful food rescue and distribution.\n",
        "\n",
        "Food types with very low claim numbers might indicate low demand or that the available quantity or expiry dates for those types are not meeting receiver needs. This could lead to those food types being wasted, negatively impacting the system's goal of reducing food waste."
      ]
    },
    {
      "cell_type": "markdown",
      "metadata": {
        "id": "bamQiAODYuh1"
      },
      "source": [
        "#### Chart - 4"
      ]
    },
    {
      "cell_type": "code",
      "execution_count": null,
      "metadata": {
        "colab": {
          "base_uri": "https://localhost:8080/",
          "height": 607
        },
        "id": "TIJwrbroYuh3",
        "outputId": "72eb18f2-caf9-45a6-e890-fa8ce6779482"
      },
      "outputs": [
        {
          "data": {
            "image/png": "[encoded data removed]",
            "text/plain": [
              "<Figure size 1000x600 with 1 Axes>"
            ]
          },
          "metadata": {},
          "output_type": "display_data"
        }
      ],
      "source": [
        "# Chart - 4: Number of claims by Meal Type\n",
        "plt.figure(figsize=(10, 6))\n",
        "sns.countplot(data=claims_food, x='Meal_Type', order=claims_food['Meal_Type'].value_counts().index)\n",
        "plt.title('Number of Claims by Meal Type')\n",
        "plt.xlabel('Meal Type')\n",
        "plt.ylabel('Number of Claims')\n",
        "plt.tight_layout()\n",
        "plt.show()"
      ]
    },
    {
      "cell_type": "markdown",
      "metadata": {
        "id": "a60bdee5"
      },
      "source": [
        "##### 1. Why did you pick the specific chart?\n",
        "A bar chart is appropriate for visualizing the number of claims for each meal type. It provides a clear comparison of the demand for food suitable for different meals."
      ]
    },
    {
      "cell_type": "markdown",
      "metadata": {
        "id": "9aeb1a54"
      },
      "source": [
        "##### 2. What is/are the insight(s) found from the chart?\n",
        "This chart reveals which meal types are most sought after by receivers. It shows if there is a higher demand for breakfast, lunch, or dinner items."
      ]
    },
    {
      "cell_type": "markdown",
      "metadata": {
        "id": "278e215b"
      },
      "source": [
        "##### 3. Will the gained insights help creating a positive business impact?\n",
        "Yes, understanding the demand for different meal types can help in scheduling food pickups and deliveries to align with when these meals are needed. It can also inform providers about the types of meals that are most likely to be claimed, encouraging them to list relevant food items.\n",
        "\n",
        "If there is a significant imbalance in claims across meal types, with some meal types having very few claims, it might indicate that the available food listings are not matching the mealtime needs of receivers, potentially leading to increased waste of food suitable for less claimed meal times."
      ]
    },
    {
      "cell_type": "markdown",
      "metadata": {
        "id": "OH-pJp9IphqM"
      },
      "source": [
        "#### Chart - 5"
      ]
    },
    {
      "cell_type": "code",
      "execution_count": null,
      "metadata": {
        "colab": {
          "base_uri": "https://localhost:8080/",
          "height": 607
        },
        "id": "kuRf4wtuphqN",
        "outputId": "3486f71d-10ae-4e84-811b-f333aeeefc80"
      },
      "outputs": [
        {
          "data": {
            "image/png": "[encoded data removed]",
            "text/plain": [
              "<Figure size 1000x600 with 1 Axes>"
            ]
          },
          "metadata": {},
          "output_type": "display_data"
        }
      ],
      "source": [
        "# Chart - 5: Distribution of Food Types by Meal Type\n",
        "plt.figure(figsize=(10, 6))\n",
        "sns.countplot(data=food, x='Meal_Type', hue='Food_Type')\n",
        "plt.title('Distribution of Food Types by Meal Type')\n",
        "plt.xlabel('Meal Type')\n",
        "plt.ylabel('Count')\n",
        "plt.tight_layout()\n",
        "plt.show()"
      ]
    },
    {
      "cell_type": "markdown",
      "metadata": {
        "id": "82c389cc"
      },
      "source": [
        "##### 1. Why did you pick the specific chart?\n",
        "A grouped bar chart is used to show the distribution of different food types within each meal type category. This helps to understand what kinds of food are typically available for breakfast, lunch, and dinner."
      ]
    },
    {
      "cell_type": "markdown",
      "metadata": {
        "id": "d9e26fbe"
      },
      "source": [
        "##### 2. What is/are the insight(s) found from the chart?\n",
        "This chart reveals the composition of food available for each meal type. It can show if certain food types are predominantly associated with specific meals (e.g., more 'Vegetarian' options for lunch, or more 'Non-Vegetarian' for dinner)."
      ]
    },
    {
      "cell_type": "markdown",
      "metadata": {
        "id": "d369e495"
      },
      "source": [
        "##### 3. Will the gained insights help creating a positive business impact?\n",
        "Yes, this insight can help in better matching food listings with receiver needs based on meal times. If receivers have a higher demand for a specific food type at a certain meal time, and providers are listing that food type for that meal time, it can lead to more successful claims and reduced waste.\n",
        "\n",
        "If there is a mismatch between the food types available for a meal and the demand for those food types at that meal time, it could lead to food going unclaimed. For example, if there is high demand for 'Vegetarian' options for lunch but most of the lunch listings are 'Non-Vegetarian', it could result in wasted food."
      ]
    },
    {
      "cell_type": "markdown",
      "metadata": {
        "id": "NC_X3p0fY2L0"
      },
      "source": [
        "#### Chart - 6 - Correlation Heatmap"
      ]
    },
    {
      "cell_type": "code",
      "execution_count": null,
      "metadata": {
        "colab": {
          "base_uri": "https://localhost:8080/",
          "height": 545
        },
        "id": "xyC9zolEZNRQ",
        "outputId": "27101ee2-b941-4370-ae38-8c3f31f774d6"
      },
      "outputs": [
        {
          "data": {
            "image/png": "[encoded data removed]",
            "text/plain": [
              "<Figure size 800x600 with 2 Axes>"
            ]
          },
          "metadata": {},
          "output_type": "display_data"
        }
      ],
      "source": [
        "#Correlation Heatmap visualization code\n",
        "\n",
        "numerical_food = food.select_dtypes(include=['int64', 'float64'])\n",
        "numerical_claims = claims.select_dtypes(include=['int64', 'float64'])\n",
        "numerical_providers = providers.select_dtypes(include=['int64', 'float64'])\n",
        "numerical_receivers = receivers.select_dtypes(include=['int64', 'float64'])\n",
        "\n",
        "if not numerical_food.empty:\n",
        "    plt.figure(figsize=(8, 6))\n",
        "    sns.heatmap(numerical_food.corr(), annot=True, cmap='coolwarm', fmt=\".2f\")\n",
        "    plt.title('Correlation Heatmap of Numerical Features in Food Listings')\n",
        "    plt.show()\n",
        "else:\n",
        "    print(\"No numerical columns in the food dataframe to plot a heatmap.\")"
      ]
    },
    {
      "cell_type": "markdown",
      "metadata": {
        "id": "29b898b3"
      },
      "source": [
        "##### 1. Why did you pick the specific chart?\n",
        "A correlation heatmap is used to visualize the pairwise correlation coefficients between numerical variables in a dataset. It helps in identifying variables that are highly correlated, which can be important for feature selection and understanding relationships."
      ]
    },
    {
      "cell_type": "markdown",
      "metadata": {
        "id": "34d7489a"
      },
      "source": [
        "##### 2. What is/are the insight(s) found from the chart?\n",
        "The heatmap shows the strength and direction of linear relationships between numerical variables (e.g., Food_ID, Quantity, Provider_ID). High positive values indicate a strong positive correlation, while high negative values indicate a strong negative correlation. Values close to zero suggest a weak correlation. This can reveal if, for instance, there's a correlation between the quantity of food and its ID (though likely not meaningful here), or if there are unexpected correlations between IDs which might suggest data generation patterns."
      ]
    },
    {
      "cell_type": "markdown",
      "metadata": {
        "id": "q29F0dvdveiT"
      },
      "source": [
        "#### Chart - 7 - Pair Plot"
      ]
    },
    {
      "cell_type": "code",
      "execution_count": null,
      "metadata": {
        "colab": {
          "base_uri": "https://localhost:8080/",
          "height": 535
        },
        "id": "o58-TEIhveiU",
        "outputId": "263dcd6c-0364-4115-e90d-54f5c805cdab"
      },
      "outputs": [
        {
          "data": {
            "image/png": "[encoded data removed]",
            "text/plain": [
              "<Figure size 500x500 with 6 Axes>"
            ]
          },
          "metadata": {},
          "output_type": "display_data"
        }
      ],
      "source": [
        "# Pair Plot visualization code\n",
        "\n",
        "if 'claims_food' in locals():\n",
        "\n",
        "    numerical_claims_food = claims_food.select_dtypes(include=['int64', 'float64'])\n",
        "    numerical_claims_food = numerical_claims_food.drop(columns=['Claim_ID', 'Food_ID', 'Receiver_ID'], errors='ignore')\n",
        "\n",
        "    if not numerical_claims_food.empty:\n",
        "        sns.pairplot(numerical_claims_food)\n",
        "        plt.suptitle('Pair Plot of Numerical Features', y=1.02)\n",
        "        plt.show()\n",
        "    else:\n",
        "        print(\"No suitable numerical columns in the merged dataframe for a pair plot.\")\n",
        "else:\n",
        "    print(\"claims_food dataframe not found. Please run the cell to merge claims and food data first.\")"
      ]
    },
    {
      "cell_type": "markdown",
      "metadata": {
        "id": "ad4347d9"
      },
      "source": [
        "##### 1. Why did you pick the specific chart?\n",
        "A pair plot creates a grid of scatterplots for each pair of numerical variables in a dataset, and histograms for each individual numerical variable along the diagonal. It's useful for visualizing the relationships between multiple numerical variables and understanding their individual distributions."
      ]
    },
    {
      "cell_type": "markdown",
      "metadata": {
        "id": "89280518"
      },
      "source": [
        "##### 2. What is/are the insight(s) found from the chart?\n",
        "The scatterplots in the pair plot show the relationships between each pair of numerical variables (in this case, primarily 'Quantity'). The histograms on the diagonal show the distribution of each individual numerical variable. For this dataset with limited numerical features beyond IDs and Quantity, the pair plot primarily visualizes the distribution of Quantity and its relationship with itself (which is just a diagonal line in the scatterplots). In datasets with more numerical features, it could reveal linear or non-linear relationships and the spread of data for each variable."
      ]
    },
    {
      "cell_type": "markdown",
      "metadata": {
        "id": "kXx22u_yQMx0"
      },
      "source": [
        "##***5. SQL Queries***"
      ]
    },
    {
      "cell_type": "markdown",
      "metadata": {
        "id": "vgTGwj3XQfbC"
      },
      "source": [
        "###Queries"
      ]
    },
    {
      "cell_type": "code",
      "execution_count": 44,
      "metadata": {
        "colab": {
          "base_uri": "https://localhost:8080/",
          "height": 162
        },
        "collapsed": true,
        "id": "prmp3cAEQhiV",
        "outputId": "513024b8-4204-420a-abd0-0bc574c85fdf"
      },
      "outputs": [
        {
          "data": {
            "application/vnd.google.colaboratory.intrinsic+json": {
              "type": "string"
            },
            "text/plain": [
              "\"\\n-- 1) Providers and receivers count by city\\nSELECT city, COUNT(*) AS providers_count\\nFROM providers\\nGROUP BY city\\nORDER BY providers_count DESC;\\n\\nSELECT city, COUNT(*) AS receivers_count\\nFROM receivers\\nGROUP BY city\\nORDER BY receivers_count DESC;\\n\\n-- 2) Provider type contributing the most (by total quantity listed)\\nSELECT provider_type, SUM(quantity) AS total_quantity\\nFROM food_listings\\nGROUP BY provider_type\\nORDER BY total_quantity DESC;\\n\\n-- 3) Contact info of providers in a given city (use :city param in apps/clients)\\n-- For SQLite in Streamlit we'll parameterize with ?\\nSELECT name, type, address, city, contact\\nFROM providers\\nWHERE city = ?\\nORDER BY name;\\n\\n-- 4) Receivers who claimed the most food (by number of claims)\\nSELECT r.receiver_id, r.name, COUNT(*) AS claims_count\\nFROM claims c\\nJOIN receivers r ON r.receiver_id = c.receiver_id\\nGROUP BY r.receiver_id, r.name\\nORDER BY claims_count DESC;\\n\\n-- 5) Total quantity available from all providers (current listings table)\\nSELECT SUM(quantity) AS total_quantity_available FROM food_listings;\\n\\n-- 6) City with highest number of food listings\\nSELECT location AS city, COUNT(*) AS listings_count\\nFROM food_listings\\nGROUP BY location\\nORDER BY listings_count DESC;\\n\\n-- 7) Most commonly available food types\\nSELECT food_type, COUNT(*) AS appearances\\nFROM food_listings\\nGROUP BY food_type\\nORDER BY appearances DESC;\\n\\n-- 8) Claims made for each food item\\nSELECT f.food_id, f.food_name, COUNT(c.claim_id) AS claim_count\\nFROM food_listings f\\nLEFT JOIN claims c ON c.food_id = f.food_id\\nGROUP BY f.food_id, f.food_name\\nORDER BY claim_count DESC;\\n\\n-- 9) Provider with highest number of successful claims\\nSELECT p.provider_id, p.name, COUNT(*) AS successful_claims\\nFROM claims c\\nJOIN food_listings f ON f.food_id = c.food_id\\nJOIN providers p ON p.provider_id = f.provider_id\\nWHERE LOWER(c.status) = 'completed'\\nGROUP BY p.provider_id, p.name\\nORDER BY successful_claims DESC;\\n\\n-- 10) Percentage of claims by status\\nWITH total AS (\\n  SELECT COUNT(*) AS n FROM claims\\n)\\nSELECT status,\\n       COUNT(*) AS cnt,\\n       ROUND(100.0 * COUNT(*) / (SELECT n FROM total), 2) AS pct\\nFROM claims\\nGROUP BY status\\nORDER BY cnt DESC;\\n\\n-- 11) Average quantity claimed per receiver\\n-- We approximate quantity claimed = associated food listing quantity (can be adjusted if you track partial claims)\\nSELECT r.receiver_id, r.name,\\n       AVG(f.quantity) AS avg_quantity_claimed\\nFROM claims c\\nJOIN receivers r ON r.receiver_id = c.receiver_id\\nJOIN food_listings f ON f.food_id = c.food_id\\nWHERE LOWER(c.status) = 'completed'\\nGROUP BY r.receiver_id, r.name\\nORDER BY avg_quantity_claimed DESC;\\n\\n-- 12) Most claimed meal type\\nSELECT f.meal_type, COUNT(*) AS claims_count\\nFROM claims c\\nJOIN food_listings f ON f.food_id = c.food_id\\nWHERE LOWER(c.status) = 'completed'\\nGROUP BY f.meal_type\\nORDER BY claims_count DESC;\\n\\n-- 13) Total quantity donated by each provider\\nSELECT p.provider_id, p.name, SUM(f.quantity) AS total_donated_quantity\\nFROM food_listings f\\nJOIN providers p ON p.provider_id = f.provider_id\\nGROUP BY p.provider_id, p.name\\nORDER BY total_donated_quantity DESC;\\n\\n-- 14) Near-expiry items within next 48 hours\\n-- Works if expiry_date is ISO-like text; otherwise adapt with date functions\\nSELECT food_id, food_name, quantity, expiry_date, location\\nFROM food_listings\\nWHERE DATE(expiry_date) <= DATE('now', '+2 days')\\nORDER BY DATE(expiry_date) ASC;\\n\\n-- 15) Unclaimed items (no claims)\\nSELECT f.food_id, f.food_name, f.quantity, f.location\\nFROM food_listings f\\nLEFT JOIN claims c ON c.food_id = f.food_id\\nWHERE c.claim_id IS NULL;\\n\\n-- 16) Provider fulfillment rate (completed / total claims for provider)\\nWITH stats AS (\\n  SELECT p.provider_id,\\n         SUM(CASE WHEN LOWER(c.status)='completed' THEN 1 ELSE 0 END) AS completed,\\n         COUNT(*) AS total\\n  FROM claims c\\n  JOIN food_listings f ON f.food_id = c.food_id\\n  JOIN providers p ON p.provider_id = f.provider_id\\n  GROUP BY p.provider_id\\n)\\nSELECT s.provider_id, p.name,\\n       ROUND(100.0 * completed / NULLIF(total,0), 2) AS completion_rate_pct,\\n       completed, total\\nFROM stats s\\nJOIN providers p ON p.provider_id = s.provider_id\\nORDER BY completion_rate_pct DESC;\\n\\n-- 17) Daily claim trend (last 30 days)\\nSELECT DATE(timestamp) AS day, COUNT(*) AS claims_count\\nFROM claims\\nWHERE DATE(timestamp) >= DATE('now', '-30 days')\\nGROUP BY DATE(timestamp)\\nORDER BY day ASC;\\n\\n-- 18) Top cities by completed claims\\nSELECT f.location AS city, COUNT(*) AS completed_claims\\nFROM claims c\\nJOIN food_listings f ON f.food_id = c.food_id\\nWHERE LOWER(c.status)='completed'\\nGROUP BY f.location\\nORDER BY completed_claims DESC;\\n\""
            ]
          },
          "execution_count": 44,
          "metadata": {},
          "output_type": "execute_result"
        }
      ],
      "source": [
        "'''\n",
        "-- 1) Providers and receivers count by city\n",
        "SELECT city, COUNT(*) AS providers_count\n",
        "FROM providers\n",
        "GROUP BY city\n",
        "ORDER BY providers_count DESC;\n",
        "\n",
        "SELECT city, COUNT(*) AS receivers_count\n",
        "FROM receivers\n",
        "GROUP BY city\n",
        "ORDER BY receivers_count DESC;\n",
        "\n",
        "-- 2) Provider type contributing the most (by total quantity listed)\n",
        "SELECT provider_type, SUM(quantity) AS total_quantity\n",
        "FROM food_listings\n",
        "GROUP BY provider_type\n",
        "ORDER BY total_quantity DESC;\n",
        "\n",
        "-- 3) Contact info of providers in a given city (use :city param in apps/clients)\n",
        "-- For SQLite in Streamlit we'll parameterize with ?\n",
        "SELECT name, type, address, city, contact\n",
        "FROM providers\n",
        "WHERE city = ?\n",
        "ORDER BY name;\n",
        "\n",
        "-- 4) Receivers who claimed the most food (by number of claims)\n",
        "SELECT r.receiver_id, r.name, COUNT(*) AS claims_count\n",
        "FROM claims c\n",
        "JOIN receivers r ON r.receiver_id = c.receiver_id\n",
        "GROUP BY r.receiver_id, r.name\n",
        "ORDER BY claims_count DESC;\n",
        "\n",
        "-- 5) Total quantity available from all providers (current listings table)\n",
        "SELECT SUM(quantity) AS total_quantity_available FROM food_listings;\n",
        "\n",
        "-- 6) City with highest number of food listings\n",
        "SELECT location AS city, COUNT(*) AS listings_count\n",
        "FROM food_listings\n",
        "GROUP BY location\n",
        "ORDER BY listings_count DESC;\n",
        "\n",
        "-- 7) Most commonly available food types\n",
        "SELECT food_type, COUNT(*) AS appearances\n",
        "FROM food_listings\n",
        "GROUP BY food_type\n",
        "ORDER BY appearances DESC;\n",
        "\n",
        "-- 8) Claims made for each food item\n",
        "SELECT f.food_id, f.food_name, COUNT(c.claim_id) AS claim_count\n",
        "FROM food_listings f\n",
        "LEFT JOIN claims c ON c.food_id = f.food_id\n",
        "GROUP BY f.food_id, f.food_name\n",
        "ORDER BY claim_count DESC;\n",
        "\n",
        "-- 9) Provider with highest number of successful claims\n",
        "SELECT p.provider_id, p.name, COUNT(*) AS successful_claims\n",
        "FROM claims c\n",
        "JOIN food_listings f ON f.food_id = c.food_id\n",
        "JOIN providers p ON p.provider_id = f.provider_id\n",
        "WHERE LOWER(c.status) = 'completed'\n",
        "GROUP BY p.provider_id, p.name\n",
        "ORDER BY successful_claims DESC;\n",
        "\n",
        "-- 10) Percentage of claims by status\n",
        "WITH total AS (\n",
        "  SELECT COUNT(*) AS n FROM claims\n",
        ")\n",
        "SELECT status,\n",
        "       COUNT(*) AS cnt,\n",
        "       ROUND(100.0 * COUNT(*) / (SELECT n FROM total), 2) AS pct\n",
        "FROM claims\n",
        "GROUP BY status\n",
        "ORDER BY cnt DESC;\n",
        "\n",
        "-- 11) Average quantity claimed per receiver\n",
        "-- We approximate quantity claimed = associated food listing quantity (can be adjusted if you track partial claims)\n",
        "SELECT r.receiver_id, r.name,\n",
        "       AVG(f.quantity) AS avg_quantity_claimed\n",
        "FROM claims c\n",
        "JOIN receivers r ON r.receiver_id = c.receiver_id\n",
        "JOIN food_listings f ON f.food_id = c.food_id\n",
        "WHERE LOWER(c.status) = 'completed'\n",
        "GROUP BY r.receiver_id, r.name\n",
        "ORDER BY avg_quantity_claimed DESC;\n",
        "\n",
        "-- 12) Most claimed meal type\n",
        "SELECT f.meal_type, COUNT(*) AS claims_count\n",
        "FROM claims c\n",
        "JOIN food_listings f ON f.food_id = c.food_id\n",
        "WHERE LOWER(c.status) = 'completed'\n",
        "GROUP BY f.meal_type\n",
        "ORDER BY claims_count DESC;\n",
        "\n",
        "-- 13) Total quantity donated by each provider\n",
        "SELECT p.provider_id, p.name, SUM(f.quantity) AS total_donated_quantity\n",
        "FROM food_listings f\n",
        "JOIN providers p ON p.provider_id = f.provider_id\n",
        "GROUP BY p.provider_id, p.name\n",
        "ORDER BY total_donated_quantity DESC;\n",
        "\n",
        "-- 14) Near-expiry items within next 48 hours\n",
        "-- Works if expiry_date is ISO-like text; otherwise adapt with date functions\n",
        "SELECT food_id, food_name, quantity, expiry_date, location\n",
        "FROM food_listings\n",
        "WHERE DATE(expiry_date) <= DATE('now', '+2 days')\n",
        "ORDER BY DATE(expiry_date) ASC;\n",
        "\n",
        "-- 15) Unclaimed items (no claims)\n",
        "SELECT f.food_id, f.food_name, f.quantity, f.location\n",
        "FROM food_listings f\n",
        "LEFT JOIN claims c ON c.food_id = f.food_id\n",
        "WHERE c.claim_id IS NULL;\n",
        "\n",
        "-- 16) Provider fulfillment rate (completed / total claims for provider)\n",
        "WITH stats AS (\n",
        "  SELECT p.provider_id,\n",
        "         SUM(CASE WHEN LOWER(c.status)='completed' THEN 1 ELSE 0 END) AS completed,\n",
        "         COUNT(*) AS total\n",
        "  FROM claims c\n",
        "  JOIN food_listings f ON f.food_id = c.food_id\n",
        "  JOIN providers p ON p.provider_id = f.provider_id\n",
        "  GROUP BY p.provider_id\n",
        ")\n",
        "SELECT s.provider_id, p.name,\n",
        "       ROUND(100.0 * completed / NULLIF(total,0), 2) AS completion_rate_pct,\n",
        "       completed, total\n",
        "FROM stats s\n",
        "JOIN providers p ON p.provider_id = s.provider_id\n",
        "ORDER BY completion_rate_pct DESC;\n",
        "\n",
        "-- 17) Daily claim trend (last 30 days)\n",
        "SELECT DATE(timestamp) AS day, COUNT(*) AS claims_count\n",
        "FROM claims\n",
        "WHERE DATE(timestamp) >= DATE('now', '-30 days')\n",
        "GROUP BY DATE(timestamp)\n",
        "ORDER BY day ASC;\n",
        "\n",
        "-- 18) Top cities by completed claims\n",
        "SELECT f.location AS city, COUNT(*) AS completed_claims\n",
        "FROM claims c\n",
        "JOIN food_listings f ON f.food_id = c.food_id\n",
        "WHERE LOWER(c.status)='completed'\n",
        "GROUP BY f.location\n",
        "ORDER BY completed_claims DESC;\n",
        "'''"
      ]
    },
    {
      "cell_type": "markdown",
      "metadata": {
        "id": "VfCC591jGiD4"
      },
      "source": [
        "## ***6. ML Model Implementation***"
      ]
    },
    {
      "cell_type": "markdown",
      "metadata": {
        "id": "OB4l2ZhMeS1U"
      },
      "source": [
        "### ML Model - 1"
      ]
    },
    {
      "cell_type": "code",
      "execution_count": 51,
      "metadata": {
        "colab": {
          "base_uri": "https://localhost:8080/"
        },
        "id": "7ebyywQieS1U",
        "outputId": "5a33fa54-4e62-4b7b-aaa9-107844f890fa"
      },
      "outputs": [
        {
          "name": "stdout",
          "output_type": "stream",
          "text": [
            "✅ Model trained successfully! Accuracy: 61.50%\n",
            "🔮 Predicted Success Probability: 33.91%\n"
          ]
        }
      ],
      "source": [
        "# ML Model - 1 Implementation\n",
        "\n",
        "conn = sqlite3.connect(\"food.db\")\n",
        "claims = pd.read_sql_query(\"SELECT * FROM claims\", conn)\n",
        "food_listings = pd.read_sql_query(\"SELECT * FROM food_listings\", conn)\n",
        "conn.close()\n",
        "\n",
        "# Merge claims with listings on food_id\n",
        "data = claims.merge(food_listings, how=\"left\", on=\"food_id\", suffixes=(\"_claim\", \"\"))\n",
        "\n",
        "# Create target variable: completed (1) or not (0)\n",
        "data[\"status_target\"] = (data[\"status\"].str.lower() == \"completed\").astype(int)\n",
        "\n",
        "#2: Feature selection\n",
        "features = [\"quantity\", \"provider_type\", \"location\", \"food_type\", \"meal_type\"]\n",
        "X = data[features].copy()\n",
        "y = data[\"status_target\"].copy()\n",
        "\n",
        "# Fill missing numeric values\n",
        "X[\"quantity\"] = X[\"quantity\"].fillna(0)\n",
        "\n",
        "#3: Preprocessing + Model\n",
        "categorical = [\"provider_type\", \"location\", \"food_type\", \"meal_type\"]\n",
        "preprocessor = ColumnTransformer(\n",
        "    [(\"cat\", OneHotEncoder(handle_unknown=\"ignore\"), categorical)],\n",
        "    remainder=\"passthrough\"\n",
        ")\n",
        "\n",
        "model = Pipeline([\n",
        "    (\"preprocessor\", preprocessor),\n",
        "    (\"classifier\", LogisticRegression(max_iter=200))\n",
        "])\n",
        "\n",
        "#4: Train-Test Split\n",
        "if y.nunique() > 1:  # Ensure both classes exist\n",
        "    X_train, X_test, y_train, y_test = train_test_split(\n",
        "        X, y, test_size=0.2, random_state=42, stratify=y\n",
        "    )\n",
        "    model.fit(X_train, y_train)\n",
        "    acc = model.score(X_test, y_test)\n",
        "    print(f\"✅ Model trained successfully! Accuracy: {acc:.2%}\")\n",
        "else:\n",
        "    print(\"⚠️ Not enough class diversity for training. Need both completed and non-completed claims.\")\n",
        "\n",
        "#5: Make a prediction example\n",
        "example = pd.DataFrame([{\n",
        "    \"quantity\": 50,\n",
        "    \"provider_type\": \"Restaurant\",\n",
        "    \"location\": \"Amberton\",\n",
        "    \"food_type\": \"Vegetarian\",\n",
        "    \"meal_type\": \"Lunch\"\n",
        "}])\n",
        "\n",
        "pred_prob = model.predict_proba(example)[0, 1]\n",
        "print(f\"🔮 Predicted Success Probability: {pred_prob:.2%}\")"
      ]
    },
    {
      "cell_type": "markdown",
      "metadata": {
        "id": "ArJBuiUVfxKd"
      },
      "source": [
        "#### 1. Explain the ML Model used and it's performance using Evaluation metric Score Chart."
      ]
    },
    {
      "cell_type": "markdown",
      "metadata": {
        "id": "j7eN6Gv9YwLU"
      },
      "source": [
        "The ML model used is Logistic Regression, predicting claim completion based on food quantity, provider/food type, and location. It achieved 61.50% accuracy on the test data and a Predicted Success Probability of 33.91%"
      ]
    },
    {
      "cell_type": "markdown",
      "metadata": {
        "id": "EyNgTHvd2WFk"
      },
      "source": [
        "## ***7.*** ***Future Work (Optional)***"
      ]
    },
    {
      "cell_type": "markdown",
      "metadata": {
        "id": "iW_Lq9qf2h6X"
      },
      "source": [
        "### Streamlit App Deployment\n",
        "\n",
        "https://github.com/aswinkj2006/Local-Food-Waste-Management/blob/main/app.py"
      ]
    },
    {
      "cell_type": "markdown",
      "metadata": {
        "id": "-Kee-DAl2viO"
      },
      "source": [
        "### ***Congrats! Your model is successfully created and ready for deployment on a live server for a real user interaction !!!***"
      ]
    },
    {
      "cell_type": "markdown",
      "metadata": {
        "id": "gCX9965dhzqZ"
      },
      "source": [
        "# **Conclusion**"
      ]
    },
    {
      "cell_type": "markdown",
      "metadata": {
        "id": "Fjb1IsQkh3yE"
      },
      "source": [
        "The Local Food Wastage Management System successfully demonstrates how technology can transform the way food surplus is redistributed to minimize waste and support communities in need. The platform integrates multiple functionalities into a cohesive solution:\n",
        "\n",
        "- Smart Food Listings & Filtering: Users can search for food donations efficiently using advanced filters such as city, provider type, food type, and meal time. This ensures faster matching between providers and receivers.\n",
        "\n",
        "- Seamless CRUD Operations: The system allows easy creation, updating, and deletion of food listings, along with intelligent claim management. This enhances operational control and keeps the data up-to-date.\n",
        "\n",
        "- Advanced SQL Analytics: The app provides in-depth SQL-driven insights such as:\n",
        "\n",
        "* Provider and receiver distribution across locations\n",
        "* Top provider types contributing the most\n",
        "* Popular food categories and meal preferences\n",
        "* Critical alerts for items expiring soon\n",
        "* Unclaimed food opportunities for better utilization\n",
        "\n",
        "- AI-Powered Predictions: A machine learning model predicts the likelihood of successful claim completion based on historical data, quantity, provider type, location, and meal characteristics. This predictive capability helps optimize resource allocation and ensures food reaches the right recipients on time.\n",
        "\n",
        "- Interactive Data Visualization: Using modern charts and dashboards, stakeholders can easily interpret trends, such as:\n",
        "\n",
        "- Geographic distribution of food listings\n",
        "\n",
        "* Popular meal types\n",
        "\n",
        "* Claim success rates\n",
        "\n",
        "* Expiry risk alerts"
      ]
    },
    {
      "cell_type": "markdown",
      "metadata": {
        "id": "gIfDvo9L0UH2"
      },
      "source": [
        "### ***Hurrah! You have successfully completed your Machine Learning Capstone Project !!!***"
      ]
    }
  ],
  "metadata": {
    "colab": {
      "collapsed_sections": [
        "w6K7xa23Elo4",
        "yQaldy8SH6Dl",
        "mDgbUHAGgjLW",
        "3RnN4peoiCZX",
        "x71ZqKXriCWQ",
        "7hBIi_osiCS2",
        "JlHwYmJAmNHm",
        "35m5QtbWiB9F",
        "PoPl-ycgm1ru",
        "H0kj-8xxnORC",
        "nA9Y7ga8ng1Z",
        "PBTbrJXOngz2",
        "u3PMJOP6ngxN",
        "dauF4eBmngu3",
        "bKJF3rekwFvQ",
        "MSa1f5Uengrz",
        "GF8Ens_Soomf",
        "EM7whBJCYoAo",
        "4Of9eVA-YrdM",
        "bamQiAODYuh1",
        "OH-pJp9IphqM",
        "NC_X3p0fY2L0",
        "q29F0dvdveiT",
        "-Kee-DAl2viO",
        "gIfDvo9L0UH2"
      ],
      "provenance": []
    },
    "kernelspec": {
      "display_name": "Python 3",
      "name": "python3"
    },
    "language_info": {
      "codemirror_mode": {
        "name": "ipython",
        "version": 3
      },
      "file_extension": ".py",
      "mimetype": "text/x-python",
      "name": "python",
      "nbconvert_exporter": "python",
      "pygments_lexer": "ipython3",
      "version": "3.12.6"
    }
  },
  "nbformat": 4,
  "nbformat_minor": 0
}
